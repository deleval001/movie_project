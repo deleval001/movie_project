{
 "cells": [
  {
   "cell_type": "code",
   "execution_count": 33,
   "id": "f1c2cb62",
   "metadata": {},
   "outputs": [
    {
     "name": "stdout",
     "output_type": "stream",
     "text": [
      "Requirement already satisfied: seaborn in c:\\users\\19564\\appdata\\local\\programs\\python\\python311\\lib\\site-packages (0.13.2)\n",
      "Requirement already satisfied: numpy!=1.24.0,>=1.20 in c:\\users\\19564\\appdata\\local\\programs\\python\\python311\\lib\\site-packages (from seaborn) (2.1.2)\n",
      "Requirement already satisfied: pandas>=1.2 in c:\\users\\19564\\appdata\\local\\programs\\python\\python311\\lib\\site-packages (from seaborn) (2.2.3)\n",
      "Requirement already satisfied: matplotlib!=3.6.1,>=3.4 in c:\\users\\19564\\appdata\\local\\programs\\python\\python311\\lib\\site-packages (from seaborn) (3.9.2)\n",
      "Requirement already satisfied: contourpy>=1.0.1 in c:\\users\\19564\\appdata\\local\\programs\\python\\python311\\lib\\site-packages (from matplotlib!=3.6.1,>=3.4->seaborn) (1.3.0)\n",
      "Requirement already satisfied: cycler>=0.10 in c:\\users\\19564\\appdata\\local\\programs\\python\\python311\\lib\\site-packages (from matplotlib!=3.6.1,>=3.4->seaborn) (0.12.1)\n",
      "Requirement already satisfied: fonttools>=4.22.0 in c:\\users\\19564\\appdata\\local\\programs\\python\\python311\\lib\\site-packages (from matplotlib!=3.6.1,>=3.4->seaborn) (4.54.1)\n",
      "Requirement already satisfied: kiwisolver>=1.3.1 in c:\\users\\19564\\appdata\\local\\programs\\python\\python311\\lib\\site-packages (from matplotlib!=3.6.1,>=3.4->seaborn) (1.4.7)\n",
      "Requirement already satisfied: packaging>=20.0 in c:\\users\\19564\\appdata\\roaming\\python\\python311\\site-packages (from matplotlib!=3.6.1,>=3.4->seaborn) (24.1)\n",
      "Requirement already satisfied: pillow>=8 in c:\\users\\19564\\appdata\\local\\programs\\python\\python311\\lib\\site-packages (from matplotlib!=3.6.1,>=3.4->seaborn) (10.4.0)\n",
      "Requirement already satisfied: pyparsing>=2.3.1 in c:\\users\\19564\\appdata\\local\\programs\\python\\python311\\lib\\site-packages (from matplotlib!=3.6.1,>=3.4->seaborn) (3.2.0)\n",
      "Requirement already satisfied: python-dateutil>=2.7 in c:\\users\\19564\\appdata\\roaming\\python\\python311\\site-packages (from matplotlib!=3.6.1,>=3.4->seaborn) (2.9.0.post0)\n",
      "Requirement already satisfied: pytz>=2020.1 in c:\\users\\19564\\appdata\\local\\programs\\python\\python311\\lib\\site-packages (from pandas>=1.2->seaborn) (2024.2)\n",
      "Requirement already satisfied: tzdata>=2022.7 in c:\\users\\19564\\appdata\\local\\programs\\python\\python311\\lib\\site-packages (from pandas>=1.2->seaborn) (2024.2)\n",
      "Requirement already satisfied: six>=1.5 in c:\\users\\19564\\appdata\\roaming\\python\\python311\\site-packages (from python-dateutil>=2.7->matplotlib!=3.6.1,>=3.4->seaborn) (1.16.0)\n",
      "Note: you may need to restart the kernel to use updated packages.\n"
     ]
    },
    {
     "name": "stderr",
     "output_type": "stream",
     "text": [
      "\n",
      "[notice] A new release of pip is available: 23.2.1 -> 24.3.1\n",
      "[notice] To update, run: python.exe -m pip install --upgrade pip\n"
     ]
    }
   ],
   "source": [
    "%pip install seaborn"
   ]
  },
  {
   "cell_type": "code",
   "execution_count": 34,
   "id": "2b2bcbcf-6a58-4219-8d2e-2d10bbc92833",
   "metadata": {
    "executionCancelledAt": null,
    "executionTime": 59,
    "lastExecutedAt": 1728674323678,
    "lastExecutedByKernel": "33272cf3-24db-4552-839e-44075e362449",
    "lastScheduledRunId": null,
    "lastSuccessfullyExecutedCode": "import pandas as pd\nimport numpy as np\nfrom datetime import datetime\nimport re\n\n\n# import file\nmovie_list = pd.read_csv('movie_list.csv')\n\n# drop nulls\nmovie_list_real = movie_list.dropna()\n\n\n# filter for person 1 picks\ncollin_picks = movie_list_real[movie_list_real[\"Chosen By\"]=='Collin']\n\n\n# count of person 1 picks\ncount_of_collin_picks = collin_picks.count()\n\n\n# person 1's highest rating\ncollin_picks = movie_list_real[\"Collin Rating\"]\nc_num_1= max(collin_picks)\n\n\n#person #1's lowest rating\nc_worst = min(collin_picks)\n\n#person #1's avg rating, rounded 2 decimals\nc_avg= collin_picks.mean().round(2)\nc_avg\n\n\n\n#person #1's most watched decade TODO\n# extracted column as a list \nrelease_date_str= str([movie_list_real[\"Release Date\"]])\nrelease_date_str\n\n\n# Extract substring for year\nstring = release_date_str\nsubstring_yr = string[7:12]\nsubstring_yr\n# movie_list_real",
    "outputsMetadata": {
     "0": {
      "height": 38,
      "type": "stream"
     }
    }
   },
   "outputs": [
    {
     "name": "stdout",
     "output_type": "stream",
     "text": [
      "Movies Collin has selected: Name                  40\n",
      "Status                40\n",
      "Completed             40\n",
      "Collin Rating         40\n",
      "Valerie Rating        40\n",
      "Genre                 40\n",
      "Source                40\n",
      "Previously Seen By    40\n",
      "Chosen By             40\n",
      "imdb                  40\n",
      "Release Date          40\n",
      "dtype: int64\n"
     ]
    }
   ],
   "source": [
    "import seaborn as sns\n",
    "import pandas as pd\n",
    "import numpy as np\n",
    "import matplotlib.pyplot as plt\n",
    "from datetime import datetime\n",
    "import re\n",
    "from typing import List\n",
    "\n",
    "\n",
    "# import file\n",
    "movie_list = pd.read_csv('data/movie_list.csv')\n",
    "\n",
    "# drop nulls\n",
    "movie_list_real = movie_list.dropna()\n",
    "\n",
    "\n",
    "# filter for person 1 picks\n",
    "collin_picks = movie_list_real[movie_list_real[\"Chosen By\"]=='Collin']\n",
    "\n",
    "\n",
    "# count of person 1 picks\n",
    "count_of_collin_picks = collin_picks.count()\n",
    "\n",
    "print(\"Movies Collin has selected:\", count_of_collin_picks)\n",
    "\n"
   ]
  },
  {
   "cell_type": "code",
   "execution_count": 35,
   "id": "a3eedb74",
   "metadata": {},
   "outputs": [
    {
     "name": "stdout",
     "output_type": "stream",
     "text": [
      "The mean decade is Decades\n",
      "1970    1976.000000\n",
      "1980    1984.166667\n",
      "1990    1995.500000\n",
      "2000    2004.500000\n",
      "2010    2014.071429\n",
      "2020    2022.458333\n",
      "Name: Release Year, dtype: float64\n"
     ]
    },
    {
     "name": "stderr",
     "output_type": "stream",
     "text": [
      "C:\\Users\\19564\\AppData\\Local\\Temp\\ipykernel_5904\\350215066.py:7: SettingWithCopyWarning: \n",
      "A value is trying to be set on a copy of a slice from a DataFrame.\n",
      "Try using .loc[row_indexer,col_indexer] = value instead\n",
      "\n",
      "See the caveats in the documentation: https://pandas.pydata.org/pandas-docs/stable/user_guide/indexing.html#returning-a-view-versus-a-copy\n",
      "  movie_list_real[\"Release Year\"] = movie_list_real[\"Release Date\"].apply(get_year)\n",
      "C:\\Users\\19564\\AppData\\Local\\Temp\\ipykernel_5904\\350215066.py:28: SettingWithCopyWarning: \n",
      "A value is trying to be set on a copy of a slice from a DataFrame.\n",
      "Try using .loc[row_indexer,col_indexer] = value instead\n",
      "\n",
      "See the caveats in the documentation: https://pandas.pydata.org/pandas-docs/stable/user_guide/indexing.html#returning-a-view-versus-a-copy\n",
      "  movie_list_real[\"Decades\"] = decade_floor * 10\n"
     ]
    }
   ],
   "source": [
    "\n",
    "#mean watched decade\n",
    "\n",
    "def get_year(date_str: str) -> str:\n",
    "    return int(str(date_str)[-4:])  # Take the last 4 characters of each date string\n",
    "\n",
    "# Apply the function to the \"Release Date\" column\n",
    "movie_list_real[\"Release Year\"] = movie_list_real[\"Release Date\"].apply(get_year)\n",
    "\n",
    "# Convert the 'Release Year' column to a single string\n",
    "rd = movie_list_real[\"Release Year\"].to_string()\n",
    "\n",
    "# Remove last N characters from the single concatenated string\n",
    "N = 4\n",
    "Str2 = rd[-N:]\n",
    "\n",
    "# Print results\n",
    "# print(\"Concatenated Release Dates as String:\", rd)\n",
    "# print(\"Last 4 characters:\", Str2)\n",
    "\n",
    "#convert str to int for decade floor category \n",
    "def get_int(Str2: int) -> int:\n",
    "        return int(Str2)\n",
    "\n",
    "md= movie_list_real[\"Release Year\"]\n",
    "\n",
    "# create decade floor\n",
    "decade_floor = np.floor(md / 10).astype(int)\n",
    "movie_list_real[\"Decades\"] = decade_floor * 10\n",
    "\n",
    "# mean watched decade\n",
    "mean_watched_decade = movie_list_real.groupby(\"Decades\")[\"Release Year\"].mean()\n",
    "max_decade = mean_watched_decade.idxmax()  # Corrected to find the index (decade) of the max value\n",
    "\n",
    "print(\"The mean decade is\" , mean_watched_decade)\n"
   ]
  },
  {
   "cell_type": "code",
   "execution_count": 36,
   "id": "e0909854",
   "metadata": {},
   "outputs": [
    {
     "name": "stdout",
     "output_type": "stream",
     "text": [
      "The max decade is 2020\n",
      "the most recent movie is from 2024\n",
      "the oldest movie is from 1976\n",
      "The spread of time in years is 48\n"
     ]
    }
   ],
   "source": [
    "# decade breakdown \n",
    "\n",
    "# max decade\n",
    "print(\"The max decade is\",  max_decade)\n",
    "\n",
    "oldest = movie_list_real[\"Release Year\"].min()\n",
    "recent = movie_list_real[\"Release Year\"].max()\n",
    "\n",
    "# oldest_movie\n",
    "print(\"the most recent movie is from\",recent )\n",
    "print(\"the oldest movie is from\", oldest)\n",
    "\n",
    "# time spread\n",
    "time_diff =  recent-oldest\n",
    "print(\"The spread of time in years is\", time_diff)\n",
    "\n",
    "# person 1 most watched decade TODO"
   ]
  },
  {
   "cell_type": "code",
   "execution_count": 37,
   "id": "6f31d89a",
   "metadata": {},
   "outputs": [
    {
     "data": {
      "text/plain": [
       "Decades\n",
       "2000    32\n",
       "2010    28\n",
       "2020    24\n",
       "1990    10\n",
       "1980     6\n",
       "1970     1\n",
       "Name: count, dtype: int64"
      ]
     },
     "execution_count": 37,
     "metadata": {},
     "output_type": "execute_result"
    },
    {
     "data": {
      "image/png": "[encoded data removed]",
      "text/plain": [
       "<Figure size 640x480 with 1 Axes>"
      ]
     },
     "metadata": {},
     "output_type": "display_data"
    }
   ],
   "source": [
    "#  plot of decades watched\n",
    "\n",
    "sns.countplot(x= movie_list_real[\"Decades\"], hue = movie_list_real[\"Decades\"])\n",
    "\n",
    "movie_list_real[\"Decades\"].value_counts()"
   ]
  },
  {
   "cell_type": "code",
   "execution_count": 38,
   "id": "07383b36",
   "metadata": {},
   "outputs": [
    {
     "name": "stderr",
     "output_type": "stream",
     "text": [
      "C:\\Users\\19564\\AppData\\Local\\Temp\\ipykernel_5904\\3768435069.py:13: UserWarning: set_ticklabels() should only be used with a fixed number of ticks, i.e. after set_ticks() or using a FixedLocator.\n",
      "  g.set_xticklabels(labels = list , rotation=45)\n"
     ]
    },
    {
     "data": {
      "text/plain": [
       "[Text(0, 0, 'Peacock'),\n",
       " Text(1, 0, 'Netflix'),\n",
       " Text(2, 0, 'Max'),\n",
       " Text(3, 0, 'Paramount+'),\n",
       " Text(4, 0, 'Hulu'),\n",
       " Text(5, 0, 'Disney +'),\n",
       " Text(6, 0, 'Theater'),\n",
       " Text(7, 0, 'To Torrent'),\n",
       " Text(8, 0, 'Youtube'),\n",
       " Text(9, 0, 'Prime Video'),\n",
       " Text(10, 0, 'Bluray'),\n",
       " Text(11, 0, 'Torrent')]"
      ]
     },
     "execution_count": 38,
     "metadata": {},
     "output_type": "execute_result"
    },
    {
     "data": {
      "image/png": "[encoded data removed]",
      "text/plain": [
       "<Figure size 640x480 with 1 Axes>"
      ]
     },
     "metadata": {},
     "output_type": "display_data"
    }
   ],
   "source": [
    "# # Count Plot of Movie Sources \n",
    "m= movie_list_real[\"Source\"].value_counts()\n",
    "m\n",
    "\n",
    "movie_sources = (movie_list_real[\"Source\"])\n",
    "list = []\n",
    "\n",
    "for val in movie_sources:\n",
    "    if val not in list:\n",
    "        list.append(val)\n",
    "\n",
    "g= sns.countplot(data=movie_list_real, x = movie_list_real[\"Source\"], hue = movie_list_real[\"Source\"])\n",
    "g.set_xticklabels(labels = list , rotation=45) "
   ]
  },
  {
   "cell_type": "code",
   "execution_count": 39,
   "id": "eae5baf8",
   "metadata": {},
   "outputs": [
    {
     "data": {
      "text/plain": [
       "<Axes: xlabel='Count', ylabel='Chosen By'>"
      ]
     },
     "execution_count": 39,
     "metadata": {},
     "output_type": "execute_result"
    },
    {
     "data": {
      "image/png": "[encoded data removed]",
      "text/plain": [
       "<Figure size 640x480 with 1 Axes>"
      ]
     },
     "metadata": {},
     "output_type": "display_data"
    }
   ],
   "source": [
    "# # Histogram of picks per person\n",
    "sns.set_theme(style=\"darkgrid\")\n",
    "sns.histplot(data = movie_list_real, y= movie_list_real[\"Chosen By\"])\n"
   ]
  },
  {
   "cell_type": "code",
   "execution_count": 40,
   "id": "917a4946",
   "metadata": {},
   "outputs": [
    {
     "name": "stderr",
     "output_type": "stream",
     "text": [
      "C:\\Users\\19564\\AppData\\Local\\Temp\\ipykernel_5904\\4088278864.py:10: UserWarning: set_ticklabels() should only be used with a fixed number of ticks, i.e. after set_ticks() or using a FixedLocator.\n",
      "  g.set_xticklabels(labels = movie_list_real[\"Completed\"] , rotation=90)\n"
     ]
    },
    {
     "data": {
      "text/plain": [
       "[<matplotlib.lines.Line2D at 0x24fedcc3d10>]"
      ]
     },
     "execution_count": 40,
     "metadata": {},
     "output_type": "execute_result"
    },
    {
     "data": {
      "image/png": "[encoded data removed]",
      "text/plain": [
       "<Figure size 640x480 with 1 Axes>"
      ]
     },
     "metadata": {},
     "output_type": "display_data"
    }
   ],
   "source": [
    "# movie_list_real\n",
    "x=movie_list_real[\"Release Year\"]\n",
    "y= c_rating\n",
    "\n",
    "# scatter plot\n",
    "sns.set(style='whitegrid') \n",
    "sns.scatterplot(x=movie_list_real[\"Release Year\"],\n",
    "                    y=v_rating,\n",
    "                    data=movie_list_real)\n",
    "g.set_xticklabels(labels = movie_list_real[\"Completed\"] , rotation=90) \n",
    " \n",
    "\n",
    "# trendline\n",
    "z = np.polyfit(x, y, 1)\n",
    "p = np.poly1d(z)\n",
    "plt.plot(x, p(x), \"r--\")  # 'r--' is for a red dashed line\n",
    "# movie_list_real"
   ]
  },
  {
   "cell_type": "code",
   "execution_count": 41,
   "id": "0da51392",
   "metadata": {},
   "outputs": [
    {
     "name": "stdout",
     "output_type": "stream",
     "text": [
      "{'0       Horror': 1, ' Thriller\\n1                 Horror\\n2         Drama': 1, ' Romance\\n3                 Horror\\n4       Horror': 1, ' Thriller\\n             ...        \\n104                Drama\\n105    Mystery': 1, ' Thriller\\n106               Action\\n107       Comedy': 1, ' Family\\n108      Comedy': 1, ' Romance\\nName: Genre': 1, ' Length: 101': 1, ' dtype: object': 1}\n"
     ]
    },
    {
     "ename": "AttributeError",
     "evalue": "'0       Horror' is not a valid function for 'Series' object",
     "output_type": "error",
     "traceback": [
      "\u001b[1;31m---------------------------------------------------------------------------\u001b[0m",
      "\u001b[1;31mAttributeError\u001b[0m                            Traceback (most recent call last)",
      "Cell \u001b[1;32mIn[41], line 29\u001b[0m\n\u001b[0;32m     25\u001b[0m \u001b[38;5;66;03m# movie_list_real[\"Single Genre\"] = list\u001b[39;00m\n\u001b[0;32m     26\u001b[0m \n\u001b[0;32m     27\u001b[0m \u001b[38;5;66;03m# first for loop to iterate over each title\u001b[39;00m\n\u001b[0;32m     28\u001b[0m \u001b[38;5;28;01mfor\u001b[39;00m elem \u001b[38;5;129;01min\u001b[39;00m movie_list_real:\n\u001b[1;32m---> 29\u001b[0m     \u001b[43mmovie_list_real\u001b[49m\u001b[43m[\u001b[49m\u001b[38;5;124;43m\"\u001b[39;49m\u001b[38;5;124;43mGenre\u001b[39;49m\u001b[38;5;124;43m\"\u001b[39;49m\u001b[43m]\u001b[49m\u001b[38;5;241;43m.\u001b[39;49m\u001b[43mapply\u001b[49m\u001b[43m(\u001b[49m\u001b[43mwords\u001b[49m\u001b[43m)\u001b[49m\n\u001b[0;32m     30\u001b[0m \u001b[38;5;28;01mfor\u001b[39;00m elem \u001b[38;5;129;01min\u001b[39;00m words:\n\u001b[0;32m     31\u001b[0m     \u001b[38;5;28;01mif\u001b[39;00m elem \u001b[38;5;129;01mnot\u001b[39;00m \u001b[38;5;129;01min\u001b[39;00m genre_dict:\n",
      "File \u001b[1;32mc:\\Users\\19564\\AppData\\Local\\Programs\\Python\\Python311\\Lib\\site-packages\\pandas\\core\\series.py:4924\u001b[0m, in \u001b[0;36mSeries.apply\u001b[1;34m(self, func, convert_dtype, args, by_row, **kwargs)\u001b[0m\n\u001b[0;32m   4789\u001b[0m \u001b[38;5;28;01mdef\u001b[39;00m \u001b[38;5;21mapply\u001b[39m(\n\u001b[0;32m   4790\u001b[0m     \u001b[38;5;28mself\u001b[39m,\n\u001b[0;32m   4791\u001b[0m     func: AggFuncType,\n\u001b[1;32m   (...)\u001b[0m\n\u001b[0;32m   4796\u001b[0m     \u001b[38;5;241m*\u001b[39m\u001b[38;5;241m*\u001b[39mkwargs,\n\u001b[0;32m   4797\u001b[0m ) \u001b[38;5;241m-\u001b[39m\u001b[38;5;241m>\u001b[39m DataFrame \u001b[38;5;241m|\u001b[39m Series:\n\u001b[0;32m   4798\u001b[0m \u001b[38;5;250m    \u001b[39m\u001b[38;5;124;03m\"\"\"\u001b[39;00m\n\u001b[0;32m   4799\u001b[0m \u001b[38;5;124;03m    Invoke function on values of Series.\u001b[39;00m\n\u001b[0;32m   4800\u001b[0m \n\u001b[1;32m   (...)\u001b[0m\n\u001b[0;32m   4915\u001b[0m \u001b[38;5;124;03m    dtype: float64\u001b[39;00m\n\u001b[0;32m   4916\u001b[0m \u001b[38;5;124;03m    \"\"\"\u001b[39;00m\n\u001b[0;32m   4917\u001b[0m     \u001b[38;5;28;01mreturn\u001b[39;00m \u001b[43mSeriesApply\u001b[49m\u001b[43m(\u001b[49m\n\u001b[0;32m   4918\u001b[0m \u001b[43m        \u001b[49m\u001b[38;5;28;43mself\u001b[39;49m\u001b[43m,\u001b[49m\n\u001b[0;32m   4919\u001b[0m \u001b[43m        \u001b[49m\u001b[43mfunc\u001b[49m\u001b[43m,\u001b[49m\n\u001b[0;32m   4920\u001b[0m \u001b[43m        \u001b[49m\u001b[43mconvert_dtype\u001b[49m\u001b[38;5;241;43m=\u001b[39;49m\u001b[43mconvert_dtype\u001b[49m\u001b[43m,\u001b[49m\n\u001b[0;32m   4921\u001b[0m \u001b[43m        \u001b[49m\u001b[43mby_row\u001b[49m\u001b[38;5;241;43m=\u001b[39;49m\u001b[43mby_row\u001b[49m\u001b[43m,\u001b[49m\n\u001b[0;32m   4922\u001b[0m \u001b[43m        \u001b[49m\u001b[43margs\u001b[49m\u001b[38;5;241;43m=\u001b[39;49m\u001b[43margs\u001b[49m\u001b[43m,\u001b[49m\n\u001b[0;32m   4923\u001b[0m \u001b[43m        \u001b[49m\u001b[43mkwargs\u001b[49m\u001b[38;5;241;43m=\u001b[39;49m\u001b[43mkwargs\u001b[49m\u001b[43m,\u001b[49m\n\u001b[1;32m-> 4924\u001b[0m \u001b[43m    \u001b[49m\u001b[43m)\u001b[49m\u001b[38;5;241;43m.\u001b[39;49m\u001b[43mapply\u001b[49m\u001b[43m(\u001b[49m\u001b[43m)\u001b[49m\n",
      "File \u001b[1;32mc:\\Users\\19564\\AppData\\Local\\Programs\\Python\\Python311\\Lib\\site-packages\\pandas\\core\\apply.py:1417\u001b[0m, in \u001b[0;36mSeriesApply.apply\u001b[1;34m(self)\u001b[0m\n\u001b[0;32m   1415\u001b[0m \u001b[38;5;66;03m# dispatch to handle list-like or dict-like\u001b[39;00m\n\u001b[0;32m   1416\u001b[0m \u001b[38;5;28;01mif\u001b[39;00m is_list_like(\u001b[38;5;28mself\u001b[39m\u001b[38;5;241m.\u001b[39mfunc):\n\u001b[1;32m-> 1417\u001b[0m     \u001b[38;5;28;01mreturn\u001b[39;00m \u001b[38;5;28;43mself\u001b[39;49m\u001b[38;5;241;43m.\u001b[39;49m\u001b[43mapply_list_or_dict_like\u001b[49m\u001b[43m(\u001b[49m\u001b[43m)\u001b[49m\n\u001b[0;32m   1419\u001b[0m \u001b[38;5;28;01mif\u001b[39;00m \u001b[38;5;28misinstance\u001b[39m(\u001b[38;5;28mself\u001b[39m\u001b[38;5;241m.\u001b[39mfunc, \u001b[38;5;28mstr\u001b[39m):\n\u001b[0;32m   1420\u001b[0m     \u001b[38;5;66;03m# if we are a string, try to dispatch\u001b[39;00m\n\u001b[0;32m   1421\u001b[0m     \u001b[38;5;28;01mreturn\u001b[39;00m \u001b[38;5;28mself\u001b[39m\u001b[38;5;241m.\u001b[39mapply_str()\n",
      "File \u001b[1;32mc:\\Users\\19564\\AppData\\Local\\Programs\\Python\\Python311\\Lib\\site-packages\\pandas\\core\\apply.py:630\u001b[0m, in \u001b[0;36mApply.apply_list_or_dict_like\u001b[1;34m(self)\u001b[0m\n\u001b[0;32m    628\u001b[0m     result \u001b[38;5;241m=\u001b[39m \u001b[38;5;28mself\u001b[39m\u001b[38;5;241m.\u001b[39magg_or_apply_dict_like(op_name\u001b[38;5;241m=\u001b[39m\u001b[38;5;124m\"\u001b[39m\u001b[38;5;124mapply\u001b[39m\u001b[38;5;124m\"\u001b[39m)\n\u001b[0;32m    629\u001b[0m \u001b[38;5;28;01melse\u001b[39;00m:\n\u001b[1;32m--> 630\u001b[0m     result \u001b[38;5;241m=\u001b[39m \u001b[38;5;28;43mself\u001b[39;49m\u001b[38;5;241;43m.\u001b[39;49m\u001b[43magg_or_apply_list_like\u001b[49m\u001b[43m(\u001b[49m\u001b[43mop_name\u001b[49m\u001b[38;5;241;43m=\u001b[39;49m\u001b[38;5;124;43m\"\u001b[39;49m\u001b[38;5;124;43mapply\u001b[39;49m\u001b[38;5;124;43m\"\u001b[39;49m\u001b[43m)\u001b[49m\n\u001b[0;32m    632\u001b[0m result \u001b[38;5;241m=\u001b[39m reconstruct_and_relabel_result(result, func, \u001b[38;5;241m*\u001b[39m\u001b[38;5;241m*\u001b[39mkwargs)\n\u001b[0;32m    634\u001b[0m \u001b[38;5;28;01mreturn\u001b[39;00m result\n",
      "File \u001b[1;32mc:\\Users\\19564\\AppData\\Local\\Programs\\Python\\Python311\\Lib\\site-packages\\pandas\\core\\apply.py:744\u001b[0m, in \u001b[0;36mNDFrameApply.agg_or_apply_list_like\u001b[1;34m(self, op_name)\u001b[0m\n\u001b[0;32m    741\u001b[0m \u001b[38;5;28;01mif\u001b[39;00m \u001b[38;5;28mgetattr\u001b[39m(obj, \u001b[38;5;124m\"\u001b[39m\u001b[38;5;124maxis\u001b[39m\u001b[38;5;124m\"\u001b[39m, \u001b[38;5;241m0\u001b[39m) \u001b[38;5;241m==\u001b[39m \u001b[38;5;241m1\u001b[39m:\n\u001b[0;32m    742\u001b[0m     \u001b[38;5;28;01mraise\u001b[39;00m \u001b[38;5;167;01mNotImplementedError\u001b[39;00m(\u001b[38;5;124m\"\u001b[39m\u001b[38;5;124maxis other than 0 is not supported\u001b[39m\u001b[38;5;124m\"\u001b[39m)\n\u001b[1;32m--> 744\u001b[0m keys, results \u001b[38;5;241m=\u001b[39m \u001b[38;5;28;43mself\u001b[39;49m\u001b[38;5;241;43m.\u001b[39;49m\u001b[43mcompute_list_like\u001b[49m\u001b[43m(\u001b[49m\u001b[43mop_name\u001b[49m\u001b[43m,\u001b[49m\u001b[43m \u001b[49m\u001b[43mobj\u001b[49m\u001b[43m,\u001b[49m\u001b[43m \u001b[49m\u001b[43mkwargs\u001b[49m\u001b[43m)\u001b[49m\n\u001b[0;32m    745\u001b[0m result \u001b[38;5;241m=\u001b[39m \u001b[38;5;28mself\u001b[39m\u001b[38;5;241m.\u001b[39mwrap_results_list_like(keys, results)\n\u001b[0;32m    746\u001b[0m \u001b[38;5;28;01mreturn\u001b[39;00m result\n",
      "File \u001b[1;32mc:\\Users\\19564\\AppData\\Local\\Programs\\Python\\Python311\\Lib\\site-packages\\pandas\\core\\apply.py:369\u001b[0m, in \u001b[0;36mApply.compute_list_like\u001b[1;34m(self, op_name, selected_obj, kwargs)\u001b[0m\n\u001b[0;32m    363\u001b[0m colg \u001b[38;5;241m=\u001b[39m obj\u001b[38;5;241m.\u001b[39m_gotitem(selected_obj\u001b[38;5;241m.\u001b[39mname, ndim\u001b[38;5;241m=\u001b[39m\u001b[38;5;241m1\u001b[39m, subset\u001b[38;5;241m=\u001b[39mselected_obj)\n\u001b[0;32m    364\u001b[0m args \u001b[38;5;241m=\u001b[39m (\n\u001b[0;32m    365\u001b[0m     [\u001b[38;5;28mself\u001b[39m\u001b[38;5;241m.\u001b[39maxis, \u001b[38;5;241m*\u001b[39m\u001b[38;5;28mself\u001b[39m\u001b[38;5;241m.\u001b[39margs]\n\u001b[0;32m    366\u001b[0m     \u001b[38;5;28;01mif\u001b[39;00m include_axis(op_name, colg)\n\u001b[0;32m    367\u001b[0m     \u001b[38;5;28;01melse\u001b[39;00m \u001b[38;5;28mself\u001b[39m\u001b[38;5;241m.\u001b[39margs\n\u001b[0;32m    368\u001b[0m )\n\u001b[1;32m--> 369\u001b[0m new_res \u001b[38;5;241m=\u001b[39m \u001b[38;5;28;43mgetattr\u001b[39;49m\u001b[43m(\u001b[49m\u001b[43mcolg\u001b[49m\u001b[43m,\u001b[49m\u001b[43m \u001b[49m\u001b[43mop_name\u001b[49m\u001b[43m)\u001b[49m\u001b[43m(\u001b[49m\u001b[43ma\u001b[49m\u001b[43m,\u001b[49m\u001b[43m \u001b[49m\u001b[38;5;241;43m*\u001b[39;49m\u001b[43margs\u001b[49m\u001b[43m,\u001b[49m\u001b[43m \u001b[49m\u001b[38;5;241;43m*\u001b[39;49m\u001b[38;5;241;43m*\u001b[39;49m\u001b[43mkwargs\u001b[49m\u001b[43m)\u001b[49m\n\u001b[0;32m    370\u001b[0m results\u001b[38;5;241m.\u001b[39mappend(new_res)\n\u001b[0;32m    372\u001b[0m \u001b[38;5;66;03m# make sure we find a good name\u001b[39;00m\n",
      "File \u001b[1;32mc:\\Users\\19564\\AppData\\Local\\Programs\\Python\\Python311\\Lib\\site-packages\\pandas\\core\\series.py:4924\u001b[0m, in \u001b[0;36mSeries.apply\u001b[1;34m(self, func, convert_dtype, args, by_row, **kwargs)\u001b[0m\n\u001b[0;32m   4789\u001b[0m \u001b[38;5;28;01mdef\u001b[39;00m \u001b[38;5;21mapply\u001b[39m(\n\u001b[0;32m   4790\u001b[0m     \u001b[38;5;28mself\u001b[39m,\n\u001b[0;32m   4791\u001b[0m     func: AggFuncType,\n\u001b[1;32m   (...)\u001b[0m\n\u001b[0;32m   4796\u001b[0m     \u001b[38;5;241m*\u001b[39m\u001b[38;5;241m*\u001b[39mkwargs,\n\u001b[0;32m   4797\u001b[0m ) \u001b[38;5;241m-\u001b[39m\u001b[38;5;241m>\u001b[39m DataFrame \u001b[38;5;241m|\u001b[39m Series:\n\u001b[0;32m   4798\u001b[0m \u001b[38;5;250m    \u001b[39m\u001b[38;5;124;03m\"\"\"\u001b[39;00m\n\u001b[0;32m   4799\u001b[0m \u001b[38;5;124;03m    Invoke function on values of Series.\u001b[39;00m\n\u001b[0;32m   4800\u001b[0m \n\u001b[1;32m   (...)\u001b[0m\n\u001b[0;32m   4915\u001b[0m \u001b[38;5;124;03m    dtype: float64\u001b[39;00m\n\u001b[0;32m   4916\u001b[0m \u001b[38;5;124;03m    \"\"\"\u001b[39;00m\n\u001b[0;32m   4917\u001b[0m     \u001b[38;5;28;01mreturn\u001b[39;00m \u001b[43mSeriesApply\u001b[49m\u001b[43m(\u001b[49m\n\u001b[0;32m   4918\u001b[0m \u001b[43m        \u001b[49m\u001b[38;5;28;43mself\u001b[39;49m\u001b[43m,\u001b[49m\n\u001b[0;32m   4919\u001b[0m \u001b[43m        \u001b[49m\u001b[43mfunc\u001b[49m\u001b[43m,\u001b[49m\n\u001b[0;32m   4920\u001b[0m \u001b[43m        \u001b[49m\u001b[43mconvert_dtype\u001b[49m\u001b[38;5;241;43m=\u001b[39;49m\u001b[43mconvert_dtype\u001b[49m\u001b[43m,\u001b[49m\n\u001b[0;32m   4921\u001b[0m \u001b[43m        \u001b[49m\u001b[43mby_row\u001b[49m\u001b[38;5;241;43m=\u001b[39;49m\u001b[43mby_row\u001b[49m\u001b[43m,\u001b[49m\n\u001b[0;32m   4922\u001b[0m \u001b[43m        \u001b[49m\u001b[43margs\u001b[49m\u001b[38;5;241;43m=\u001b[39;49m\u001b[43margs\u001b[49m\u001b[43m,\u001b[49m\n\u001b[0;32m   4923\u001b[0m \u001b[43m        \u001b[49m\u001b[43mkwargs\u001b[49m\u001b[38;5;241;43m=\u001b[39;49m\u001b[43mkwargs\u001b[49m\u001b[43m,\u001b[49m\n\u001b[1;32m-> 4924\u001b[0m \u001b[43m    \u001b[49m\u001b[43m)\u001b[49m\u001b[38;5;241;43m.\u001b[39;49m\u001b[43mapply\u001b[49m\u001b[43m(\u001b[49m\u001b[43m)\u001b[49m\n",
      "File \u001b[1;32mc:\\Users\\19564\\AppData\\Local\\Programs\\Python\\Python311\\Lib\\site-packages\\pandas\\core\\apply.py:1421\u001b[0m, in \u001b[0;36mSeriesApply.apply\u001b[1;34m(self)\u001b[0m\n\u001b[0;32m   1417\u001b[0m     \u001b[38;5;28;01mreturn\u001b[39;00m \u001b[38;5;28mself\u001b[39m\u001b[38;5;241m.\u001b[39mapply_list_or_dict_like()\n\u001b[0;32m   1419\u001b[0m \u001b[38;5;28;01mif\u001b[39;00m \u001b[38;5;28misinstance\u001b[39m(\u001b[38;5;28mself\u001b[39m\u001b[38;5;241m.\u001b[39mfunc, \u001b[38;5;28mstr\u001b[39m):\n\u001b[0;32m   1420\u001b[0m     \u001b[38;5;66;03m# if we are a string, try to dispatch\u001b[39;00m\n\u001b[1;32m-> 1421\u001b[0m     \u001b[38;5;28;01mreturn\u001b[39;00m \u001b[38;5;28;43mself\u001b[39;49m\u001b[38;5;241;43m.\u001b[39;49m\u001b[43mapply_str\u001b[49m\u001b[43m(\u001b[49m\u001b[43m)\u001b[49m\n\u001b[0;32m   1423\u001b[0m \u001b[38;5;28;01mif\u001b[39;00m \u001b[38;5;28mself\u001b[39m\u001b[38;5;241m.\u001b[39mby_row \u001b[38;5;241m==\u001b[39m \u001b[38;5;124m\"\u001b[39m\u001b[38;5;124m_compat\u001b[39m\u001b[38;5;124m\"\u001b[39m:\n\u001b[0;32m   1424\u001b[0m     \u001b[38;5;28;01mreturn\u001b[39;00m \u001b[38;5;28mself\u001b[39m\u001b[38;5;241m.\u001b[39mapply_compat()\n",
      "File \u001b[1;32mc:\\Users\\19564\\AppData\\Local\\Programs\\Python\\Python311\\Lib\\site-packages\\pandas\\core\\apply.py:603\u001b[0m, in \u001b[0;36mApply.apply_str\u001b[1;34m(self)\u001b[0m\n\u001b[0;32m    601\u001b[0m         \u001b[38;5;28;01melse\u001b[39;00m:\n\u001b[0;32m    602\u001b[0m             \u001b[38;5;28mself\u001b[39m\u001b[38;5;241m.\u001b[39mkwargs[\u001b[38;5;124m\"\u001b[39m\u001b[38;5;124maxis\u001b[39m\u001b[38;5;124m\"\u001b[39m] \u001b[38;5;241m=\u001b[39m \u001b[38;5;28mself\u001b[39m\u001b[38;5;241m.\u001b[39maxis\n\u001b[1;32m--> 603\u001b[0m \u001b[38;5;28;01mreturn\u001b[39;00m \u001b[38;5;28;43mself\u001b[39;49m\u001b[38;5;241;43m.\u001b[39;49m\u001b[43m_apply_str\u001b[49m\u001b[43m(\u001b[49m\u001b[43mobj\u001b[49m\u001b[43m,\u001b[49m\u001b[43m \u001b[49m\u001b[43mfunc\u001b[49m\u001b[43m,\u001b[49m\u001b[43m \u001b[49m\u001b[38;5;241;43m*\u001b[39;49m\u001b[38;5;28;43mself\u001b[39;49m\u001b[38;5;241;43m.\u001b[39;49m\u001b[43margs\u001b[49m\u001b[43m,\u001b[49m\u001b[43m \u001b[49m\u001b[38;5;241;43m*\u001b[39;49m\u001b[38;5;241;43m*\u001b[39;49m\u001b[38;5;28;43mself\u001b[39;49m\u001b[38;5;241;43m.\u001b[39;49m\u001b[43mkwargs\u001b[49m\u001b[43m)\u001b[49m\n",
      "File \u001b[1;32mc:\\Users\\19564\\AppData\\Local\\Programs\\Python\\Python311\\Lib\\site-packages\\pandas\\core\\apply.py:706\u001b[0m, in \u001b[0;36mApply._apply_str\u001b[1;34m(self, obj, func, *args, **kwargs)\u001b[0m\n\u001b[0;32m    704\u001b[0m \u001b[38;5;28;01melse\u001b[39;00m:\n\u001b[0;32m    705\u001b[0m     msg \u001b[38;5;241m=\u001b[39m \u001b[38;5;124mf\u001b[39m\u001b[38;5;124m\"\u001b[39m\u001b[38;5;124m'\u001b[39m\u001b[38;5;132;01m{\u001b[39;00mfunc\u001b[38;5;132;01m}\u001b[39;00m\u001b[38;5;124m'\u001b[39m\u001b[38;5;124m is not a valid function for \u001b[39m\u001b[38;5;124m'\u001b[39m\u001b[38;5;132;01m{\u001b[39;00m\u001b[38;5;28mtype\u001b[39m(obj)\u001b[38;5;241m.\u001b[39m\u001b[38;5;18m__name__\u001b[39m\u001b[38;5;132;01m}\u001b[39;00m\u001b[38;5;124m'\u001b[39m\u001b[38;5;124m object\u001b[39m\u001b[38;5;124m\"\u001b[39m\n\u001b[1;32m--> 706\u001b[0m     \u001b[38;5;28;01mraise\u001b[39;00m \u001b[38;5;167;01mAttributeError\u001b[39;00m(msg)\n",
      "\u001b[1;31mAttributeError\u001b[0m: '0       Horror' is not a valid function for 'Series' object"
     ]
    }
   ],
   "source": [
    "#  mean rating per genre\n",
    "# movie_list_real[\"genre_mean\"] = movie_list_real.groupby(\"Genre\")[\"Collin Rating\"].transform(lambda x: x.mean())\n",
    "# print(movie_list_real[[\"Genre\",\"genre_mean\"]].value_counts(ascending=False))\n",
    "\n",
    "\n",
    "# seperate genre categories TODO\n",
    "# split string to get single values\n",
    "\n",
    "movie_list_real[\"Genre\"].value_counts()\n",
    "\n",
    "movie_genre = str(movie_list_real[\"Genre\"])\n",
    "\n",
    "string = movie_genre\n",
    "words = string.split(',')\n",
    "\n",
    "genre_dict = {} # maps genre -> number of movies with that genre\n",
    "\n",
    "for val in words:\n",
    "    if val not in genre_dict:\n",
    "        genre_dict[val] = 1\n",
    "    else:\n",
    "        genre_dict[val] += 1\n",
    "\n",
    "print(genre_dict)\n",
    "# movie_list_real[\"Single Genre\"] = list\n",
    "\n",
    "# first for loop to iterate over each title\n",
    "for elem in movie_list_real:\n",
    "    movie_list_real[\"Genre\"].apply(words)\n",
    "for elem in words:\n",
    "    if elem not in genre_dict:\n",
    "        genre_dict[val] = 1\n",
    "    else:\n",
    "        genre_dict[val] += 1\n"
   ]
  },
  {
   "cell_type": "code",
   "execution_count": null,
   "id": "63e30504",
   "metadata": {},
   "outputs": [
    {
     "name": "stdout",
     "output_type": "stream",
     "text": [
      "count                 101\n",
      "unique                 95\n",
      "top       October 6, 2024\n",
      "freq                    2\n",
      "Name: Completed, dtype: object\n"
     ]
    }
   ],
   "source": [
    "# exploring outliers\n",
    "print(movie_list_real[\"Completed\"].describe())"
   ]
  },
  {
   "cell_type": "code",
   "execution_count": null,
   "id": "45df3fc9",
   "metadata": {},
   "outputs": [
    {
     "name": "stdout",
     "output_type": "stream",
     "text": [
      "Valerie rated 0                                   Us\n",
      "1                            Annabelle\n",
      "2                        Up in the Air\n",
      "3                        The Conjuring\n",
      "4                        A Quiet Place\n",
      "                    ...               \n",
      "104      Once Upon A Time in Hollywood\n",
      "105    The Girl With the Dragon Tattoo\n",
      "106                             Nimona\n",
      "107                           Spy Kids\n",
      "108                 The Wedding Singer\n",
      "Name: Name, Length: 101, dtype: object 0    8.0\n",
      "1    4.0\n",
      "2    5.5\n",
      "3    7.0\n",
      "4    8.5\n",
      "5    8.5\n",
      "6    7.0\n",
      "7    4.5\n",
      "8    5.0\n",
      "9    5.5\n",
      "Name: Valerie Rating, dtype: float64\n",
      "Valerie rated 0                                   Us\n",
      "1                            Annabelle\n",
      "2                        Up in the Air\n",
      "3                        The Conjuring\n",
      "4                        A Quiet Place\n",
      "                    ...               \n",
      "104      Once Upon A Time in Hollywood\n",
      "105    The Girl With the Dragon Tattoo\n",
      "106                             Nimona\n",
      "107                           Spy Kids\n",
      "108                 The Wedding Singer\n",
      "Name: Name, Length: 101, dtype: object 0    8.0\n",
      "1    4.0\n",
      "2    5.5\n",
      "3    7.0\n",
      "4    8.5\n",
      "5    8.5\n",
      "6    7.0\n",
      "7    4.5\n",
      "8    5.0\n",
      "9    5.5\n",
      "Name: Valerie Rating, dtype: float64\n",
      "Valerie rated 0                                   Us\n",
      "1                            Annabelle\n",
      "2                        Up in the Air\n",
      "3                        The Conjuring\n",
      "4                        A Quiet Place\n",
      "                    ...               \n",
      "104      Once Upon A Time in Hollywood\n",
      "105    The Girl With the Dragon Tattoo\n",
      "106                             Nimona\n",
      "107                           Spy Kids\n",
      "108                 The Wedding Singer\n",
      "Name: Name, Length: 101, dtype: object 0    8.0\n",
      "1    4.0\n",
      "2    5.5\n",
      "3    7.0\n",
      "4    8.5\n",
      "5    8.5\n",
      "6    7.0\n",
      "7    4.5\n",
      "8    5.0\n",
      "9    5.5\n",
      "Name: Valerie Rating, dtype: float64\n",
      "Valerie rated 0                                   Us\n",
      "1                            Annabelle\n",
      "2                        Up in the Air\n",
      "3                        The Conjuring\n",
      "4                        A Quiet Place\n",
      "                    ...               \n",
      "104      Once Upon A Time in Hollywood\n",
      "105    The Girl With the Dragon Tattoo\n",
      "106                             Nimona\n",
      "107                           Spy Kids\n",
      "108                 The Wedding Singer\n",
      "Name: Name, Length: 101, dtype: object 0    8.0\n",
      "1    4.0\n",
      "2    5.5\n",
      "3    7.0\n",
      "4    8.5\n",
      "5    8.5\n",
      "6    7.0\n",
      "7    4.5\n",
      "8    5.0\n",
      "9    5.5\n",
      "Name: Valerie Rating, dtype: float64\n",
      "Valerie rated 0                                   Us\n",
      "1                            Annabelle\n",
      "2                        Up in the Air\n",
      "3                        The Conjuring\n",
      "4                        A Quiet Place\n",
      "                    ...               \n",
      "104      Once Upon A Time in Hollywood\n",
      "105    The Girl With the Dragon Tattoo\n",
      "106                             Nimona\n",
      "107                           Spy Kids\n",
      "108                 The Wedding Singer\n",
      "Name: Name, Length: 101, dtype: object 0    8.0\n",
      "1    4.0\n",
      "2    5.5\n",
      "3    7.0\n",
      "4    8.5\n",
      "5    8.5\n",
      "6    7.0\n",
      "7    4.5\n",
      "8    5.0\n",
      "9    5.5\n",
      "Name: Valerie Rating, dtype: float64\n",
      "Valerie rated 0                                   Us\n",
      "1                            Annabelle\n",
      "2                        Up in the Air\n",
      "3                        The Conjuring\n",
      "4                        A Quiet Place\n",
      "                    ...               \n",
      "104      Once Upon A Time in Hollywood\n",
      "105    The Girl With the Dragon Tattoo\n",
      "106                             Nimona\n",
      "107                           Spy Kids\n",
      "108                 The Wedding Singer\n",
      "Name: Name, Length: 101, dtype: object 0    8.0\n",
      "1    4.0\n",
      "2    5.5\n",
      "3    7.0\n",
      "4    8.5\n",
      "5    8.5\n",
      "6    7.0\n",
      "7    4.5\n",
      "8    5.0\n",
      "9    5.5\n",
      "Name: Valerie Rating, dtype: float64\n",
      "Valerie rated 0                                   Us\n",
      "1                            Annabelle\n",
      "2                        Up in the Air\n",
      "3                        The Conjuring\n",
      "4                        A Quiet Place\n",
      "                    ...               \n",
      "104      Once Upon A Time in Hollywood\n",
      "105    The Girl With the Dragon Tattoo\n",
      "106                             Nimona\n",
      "107                           Spy Kids\n",
      "108                 The Wedding Singer\n",
      "Name: Name, Length: 101, dtype: object 0    8.0\n",
      "1    4.0\n",
      "2    5.5\n",
      "3    7.0\n",
      "4    8.5\n",
      "5    8.5\n",
      "6    7.0\n",
      "7    4.5\n",
      "8    5.0\n",
      "9    5.5\n",
      "Name: Valerie Rating, dtype: float64\n",
      "Valerie rated 0                                   Us\n",
      "1                            Annabelle\n",
      "2                        Up in the Air\n",
      "3                        The Conjuring\n",
      "4                        A Quiet Place\n",
      "                    ...               \n",
      "104      Once Upon A Time in Hollywood\n",
      "105    The Girl With the Dragon Tattoo\n",
      "106                             Nimona\n",
      "107                           Spy Kids\n",
      "108                 The Wedding Singer\n",
      "Name: Name, Length: 101, dtype: object 0    8.0\n",
      "1    4.0\n",
      "2    5.5\n",
      "3    7.0\n",
      "4    8.5\n",
      "5    8.5\n",
      "6    7.0\n",
      "7    4.5\n",
      "8    5.0\n",
      "9    5.5\n",
      "Name: Valerie Rating, dtype: float64\n",
      "Valerie rated 0                                   Us\n",
      "1                            Annabelle\n",
      "2                        Up in the Air\n",
      "3                        The Conjuring\n",
      "4                        A Quiet Place\n",
      "                    ...               \n",
      "104      Once Upon A Time in Hollywood\n",
      "105    The Girl With the Dragon Tattoo\n",
      "106                             Nimona\n",
      "107                           Spy Kids\n",
      "108                 The Wedding Singer\n",
      "Name: Name, Length: 101, dtype: object 0    8.0\n",
      "1    4.0\n",
      "2    5.5\n",
      "3    7.0\n",
      "4    8.5\n",
      "5    8.5\n",
      "6    7.0\n",
      "7    4.5\n",
      "8    5.0\n",
      "9    5.5\n",
      "Name: Valerie Rating, dtype: float64\n",
      "Valerie rated 0                                   Us\n",
      "1                            Annabelle\n",
      "2                        Up in the Air\n",
      "3                        The Conjuring\n",
      "4                        A Quiet Place\n",
      "                    ...               \n",
      "104      Once Upon A Time in Hollywood\n",
      "105    The Girl With the Dragon Tattoo\n",
      "106                             Nimona\n",
      "107                           Spy Kids\n",
      "108                 The Wedding Singer\n",
      "Name: Name, Length: 101, dtype: object 0    8.0\n",
      "1    4.0\n",
      "2    5.5\n",
      "3    7.0\n",
      "4    8.5\n",
      "5    8.5\n",
      "6    7.0\n",
      "7    4.5\n",
      "8    5.0\n",
      "9    5.5\n",
      "Name: Valerie Rating, dtype: float64\n",
      "Valerie rated 0                                   Us\n",
      "1                            Annabelle\n",
      "2                        Up in the Air\n",
      "3                        The Conjuring\n",
      "4                        A Quiet Place\n",
      "                    ...               \n",
      "104      Once Upon A Time in Hollywood\n",
      "105    The Girl With the Dragon Tattoo\n",
      "106                             Nimona\n",
      "107                           Spy Kids\n",
      "108                 The Wedding Singer\n",
      "Name: Name, Length: 101, dtype: object 0    8.0\n",
      "1    4.0\n",
      "2    5.5\n",
      "3    7.0\n",
      "4    8.5\n",
      "5    8.5\n",
      "6    7.0\n",
      "7    4.5\n",
      "8    5.0\n",
      "9    5.5\n",
      "Name: Valerie Rating, dtype: float64\n",
      "Valerie rated 0                                   Us\n",
      "1                            Annabelle\n",
      "2                        Up in the Air\n",
      "3                        The Conjuring\n",
      "4                        A Quiet Place\n",
      "                    ...               \n",
      "104      Once Upon A Time in Hollywood\n",
      "105    The Girl With the Dragon Tattoo\n",
      "106                             Nimona\n",
      "107                           Spy Kids\n",
      "108                 The Wedding Singer\n",
      "Name: Name, Length: 101, dtype: object 0    8.0\n",
      "1    4.0\n",
      "2    5.5\n",
      "3    7.0\n",
      "4    8.5\n",
      "5    8.5\n",
      "6    7.0\n",
      "7    4.5\n",
      "8    5.0\n",
      "9    5.5\n",
      "Name: Valerie Rating, dtype: float64\n",
      "Valerie rated 0                                   Us\n",
      "1                            Annabelle\n",
      "2                        Up in the Air\n",
      "3                        The Conjuring\n",
      "4                        A Quiet Place\n",
      "                    ...               \n",
      "104      Once Upon A Time in Hollywood\n",
      "105    The Girl With the Dragon Tattoo\n",
      "106                             Nimona\n",
      "107                           Spy Kids\n",
      "108                 The Wedding Singer\n",
      "Name: Name, Length: 101, dtype: object 0    8.0\n",
      "1    4.0\n",
      "2    5.5\n",
      "3    7.0\n",
      "4    8.5\n",
      "5    8.5\n",
      "6    7.0\n",
      "7    4.5\n",
      "8    5.0\n",
      "9    5.5\n",
      "Name: Valerie Rating, dtype: float64\n"
     ]
    }
   ],
   "source": [
    "# select movie list title where valerie rating = 10 TODO\n",
    "for elem in movie_list_real:\n",
    "    print(\"Valerie rated\", movie_list_real[\"Name\"],v_rating.head(10))"
   ]
  },
  {
   "cell_type": "code",
   "execution_count": null,
   "id": "8b5b9aee",
   "metadata": {},
   "outputs": [
    {
     "name": "stderr",
     "output_type": "stream",
     "text": [
      "C:\\Users\\19564\\AppData\\Local\\Temp\\ipykernel_2940\\3144963881.py:10: UserWarning: set_ticklabels() should only be used with a fixed number of ticks, i.e. after set_ticks() or using a FixedLocator.\n",
      "  g.set_xticklabels(labels = movie_list_real[\"Completed\"] , rotation=90)\n"
     ]
    },
    {
     "data": {
      "text/plain": [
       "[<matplotlib.lines.Line2D at 0x22101f62ed0>]"
      ]
     },
     "execution_count": 37,
     "metadata": {},
     "output_type": "execute_result"
    },
    {
     "data": {
      "image/png": "[encoded data removed]",
      "text/plain": [
       "<Figure size 640x480 with 1 Axes>"
      ]
     },
     "metadata": {},
     "output_type": "display_data"
    }
   ],
   "source": [
    "\n",
    "# movie_list_real\n",
    "x=movie_list_real[\"Release Year\"]\n",
    "y= v_rating\n",
    "\n",
    "# scatter plot\n",
    "sns.set(style='whitegrid') \n",
    "sns.scatterplot(x=movie_list_real[\"Release Year\"],\n",
    "                    y=v_rating,\n",
    "                    data=movie_list_real)\n",
    "g.set_xticklabels(labels = movie_list_real[\"Completed\"] , rotation=90) \n",
    " \n",
    "\n",
    "# trendline\n",
    "z = np.polyfit(x, y, 1)\n",
    "p = np.poly1d(z)\n",
    "plt.plot(x, p(x), \"r--\")  # 'r--' is for a red dashed line\n",
    "\n"
   ]
  },
  {
   "cell_type": "code",
   "execution_count": null,
   "id": "0f4c5148",
   "metadata": {},
   "outputs": [
    {
     "name": "stdout",
     "output_type": "stream",
     "text": [
      "Genres List: 0          \n",
      "Comedy         57\n",
      "Family         30\n",
      "Drama          21\n",
      "Musical        13\n",
      "Horror          9\n",
      "Action          9\n",
      "Adventure       8\n",
      "Thriller        7\n",
      "Bizarro         5\n",
      "Romance         5\n",
      "Stoner          4\n",
      "Documentary     2\n",
      "Arthouse        1\n",
      "Mystery         1\n",
      "Name: count, dtype: int64\n"
     ]
    }
   ],
   "source": [
    "# CORRELATION GENRE V RATING\n",
    "# need single worded genre\n",
    "# list with single word genre\n",
    "results = []\n",
    "\n",
    "# Iterate through each row in the DataFrame\n",
    "for index, row in movie_list_real.iterrows():\n",
    "    # Split genres and append each to results\n",
    "    for genre in row[\"Genre\"].split(\",\"):\n",
    "        results.append(genre.strip())  # Clean up extra spaces\n",
    "\n",
    "\n",
    "# create DF from results list\n",
    "genre_list = df = pd.DataFrame(data=results)\n",
    "\n",
    "# Add each val to the new list if it doesn't already exist\n",
    "for val in genre_list:\n",
    "    if val not in results:\n",
    "        results.append(val)\n",
    "\n",
    "# remove duplicates\n",
    "genre_list.drop_duplicates()\n",
    "\n",
    "\n",
    "# count of single genres\n",
    "genre_counts =genre_list.value_counts()\n",
    "\n",
    "\n",
    "# # Print the genres list\n",
    "print(\"Genres List:\", genre_counts)\n",
    "\n"
   ]
  },
  {
   "cell_type": "code",
   "execution_count": null,
   "id": "1ff7e673",
   "metadata": {},
   "outputs": [
    {
     "data": {
      "text/html": [
       "<div>\n",
       "<style scoped>\n",
       "    .dataframe tbody tr th:only-of-type {\n",
       "        vertical-align: middle;\n",
       "    }\n",
       "\n",
       "    .dataframe tbody tr th {\n",
       "        vertical-align: top;\n",
       "    }\n",
       "\n",
       "    .dataframe thead th {\n",
       "        text-align: right;\n",
       "    }\n",
       "</style>\n",
       "<table border=\"1\" class=\"dataframe\">\n",
       "  <thead>\n",
       "    <tr style=\"text-align: right;\">\n",
       "      <th></th>\n",
       "      <th>count</th>\n",
       "      <th>Collin_rating</th>\n",
       "    </tr>\n",
       "    <tr>\n",
       "      <th>0</th>\n",
       "      <th></th>\n",
       "      <th></th>\n",
       "    </tr>\n",
       "  </thead>\n",
       "  <tbody>\n",
       "    <tr>\n",
       "      <th>Comedy</th>\n",
       "      <td>57</td>\n",
       "      <td>NaN</td>\n",
       "    </tr>\n",
       "    <tr>\n",
       "      <th>Family</th>\n",
       "      <td>30</td>\n",
       "      <td>NaN</td>\n",
       "    </tr>\n",
       "    <tr>\n",
       "      <th>Drama</th>\n",
       "      <td>21</td>\n",
       "      <td>NaN</td>\n",
       "    </tr>\n",
       "    <tr>\n",
       "      <th>Musical</th>\n",
       "      <td>13</td>\n",
       "      <td>NaN</td>\n",
       "    </tr>\n",
       "    <tr>\n",
       "      <th>Horror</th>\n",
       "      <td>9</td>\n",
       "      <td>NaN</td>\n",
       "    </tr>\n",
       "    <tr>\n",
       "      <th>Action</th>\n",
       "      <td>9</td>\n",
       "      <td>NaN</td>\n",
       "    </tr>\n",
       "    <tr>\n",
       "      <th>Adventure</th>\n",
       "      <td>8</td>\n",
       "      <td>NaN</td>\n",
       "    </tr>\n",
       "    <tr>\n",
       "      <th>Thriller</th>\n",
       "      <td>7</td>\n",
       "      <td>NaN</td>\n",
       "    </tr>\n",
       "    <tr>\n",
       "      <th>Bizarro</th>\n",
       "      <td>5</td>\n",
       "      <td>NaN</td>\n",
       "    </tr>\n",
       "    <tr>\n",
       "      <th>Romance</th>\n",
       "      <td>5</td>\n",
       "      <td>NaN</td>\n",
       "    </tr>\n",
       "    <tr>\n",
       "      <th>Stoner</th>\n",
       "      <td>4</td>\n",
       "      <td>NaN</td>\n",
       "    </tr>\n",
       "    <tr>\n",
       "      <th>Documentary</th>\n",
       "      <td>2</td>\n",
       "      <td>NaN</td>\n",
       "    </tr>\n",
       "    <tr>\n",
       "      <th>Arthouse</th>\n",
       "      <td>1</td>\n",
       "      <td>NaN</td>\n",
       "    </tr>\n",
       "    <tr>\n",
       "      <th>Mystery</th>\n",
       "      <td>1</td>\n",
       "      <td>NaN</td>\n",
       "    </tr>\n",
       "  </tbody>\n",
       "</table>\n",
       "</div>"
      ],
      "text/plain": [
       "             count  Collin_rating\n",
       "0                                \n",
       "Comedy          57            NaN\n",
       "Family          30            NaN\n",
       "Drama           21            NaN\n",
       "Musical         13            NaN\n",
       "Horror           9            NaN\n",
       "Action           9            NaN\n",
       "Adventure        8            NaN\n",
       "Thriller         7            NaN\n",
       "Bizarro          5            NaN\n",
       "Romance          5            NaN\n",
       "Stoner           4            NaN\n",
       "Documentary      2            NaN\n",
       "Arthouse         1            NaN\n",
       "Mystery          1            NaN"
      ]
     },
     "execution_count": 98,
     "metadata": {},
     "output_type": "execute_result"
    }
   ],
   "source": [
    "# rating per genre \n",
    "\n",
    "# genre_info = pd.DataFrame(data=genre_counts)\n",
    "\n",
    "# genre_info[\"Collin_rating\"] = movie_list_real[\"Collin Rating\"]\n",
    "\n",
    "\n",
    "# find mean of c_rating per genre\n",
    "# sum of scores per genre / count of genre \n",
    "\n",
    "\n"
   ]
  }
 ],
 "metadata": {
  "colab": {
   "name": "Welcome to DataCamp Workspaces.ipynb",
   "provenance": []
  },
  "editor": "DataLab",
  "kernelspec": {
   "display_name": "Python 3",
   "language": "python",
   "name": "python3"
  },
  "language_info": {
   "codemirror_mode": {
    "name": "ipython",
    "version": 3
   },
   "file_extension": ".py",
   "mimetype": "text/x-python",
   "name": "python",
   "nbconvert_exporter": "python",
   "pygments_lexer": "ipython3",
   "version": "3.11.5"
  }
 },
 "nbformat": 4,
 "nbformat_minor": 5
}
